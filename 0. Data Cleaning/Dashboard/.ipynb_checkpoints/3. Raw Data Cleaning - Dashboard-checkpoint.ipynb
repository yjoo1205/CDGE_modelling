{
 "cells": [
  {
   "cell_type": "code",
   "execution_count": null,
   "metadata": {},
   "outputs": [],
   "source": [
    "import pandas as pd\n",
    "import numpy as np\n",
    "from numpy import nan\n",
    "\n",
    "#store as a dataframe\n",
    "pd.set_option(\"display.max_colwidth\", -1)\n",
    "mvt = pd.read_csv(\"Movement_Report_final.csv\")\n",
    "mvt.head()"
   ]
  },
  {
   "cell_type": "code",
   "execution_count": null,
   "metadata": {},
   "outputs": [],
   "source": [
    "#store as a dataframe\n",
    "pd.set_option(\"display.max_colwidth\", -1)\n",
    "fuel = pd.read_excel(\"fuel_efficiency.xlsx\")\n",
    "fuel.to_csv('fuel_efficiency.csv',index=False)\n",
    "fuel.head(20)"
   ]
  },
  {
   "cell_type": "code",
   "execution_count": null,
   "metadata": {},
   "outputs": [],
   "source": [
    "#store as a dataframe\n",
    "pd.set_option(\"display.max_colwidth\", -1)\n",
    "refuel = pd.read_excel(\"refuel_report.xlsx\")\n",
    "refuel"
   ]
  },
  {
   "cell_type": "code",
   "execution_count": null,
   "metadata": {},
   "outputs": [],
   "source": [
    "#store as a dataframe\n",
    "pd.set_option(\"display.max_colwidth\", -1)\n",
    "refuel = pd.read_csv(\"Detail Trip Final.csv\")\n",
    "refuel.head()"
   ]
  },
  {
   "cell_type": "code",
   "execution_count": null,
   "metadata": {},
   "outputs": [],
   "source": [
    "#store as a dataframe\n",
    "pd.set_option(\"display.max_colwidth\", -1)\n",
    "time = pd.read_csv(\"end_trip.csv\")\n",
    "time.head()"
   ]
  },
  {
   "cell_type": "code",
   "execution_count": null,
   "metadata": {},
   "outputs": [],
   "source": []
  }
 ],
 "metadata": {
  "kernelspec": {
   "display_name": "Python 3",
   "language": "python",
   "name": "python3"
  },
  "language_info": {
   "codemirror_mode": {
    "name": "ipython",
    "version": 3
   },
   "file_extension": ".py",
   "mimetype": "text/x-python",
   "name": "python",
   "nbconvert_exporter": "python",
   "pygments_lexer": "ipython3",
   "version": "3.7.4"
  }
 },
 "nbformat": 4,
 "nbformat_minor": 2
}
