{
 "cells": [
  {
   "cell_type": "code",
   "execution_count": null,
   "metadata": {},
   "outputs": [],
   "source": [
    "import pandas as pd\n",
    "import numpy as np\n",
    "from numpy import nan\n",
    "from datetime import *\n",
    "import copy \n",
    "\n",
    "#store as a dataframe\n",
    "pd.set_option(\"display.max_colwidth\", -1)\n",
    "df = pd.read_csv(\"Movement_Report_Final.csv\")\n",
    "df.head(5)"
   ]
  },
  {
   "cell_type": "markdown",
   "metadata": {},
   "source": [
    "Renaming Columns in the dataframe"
   ]
  },
  {
   "cell_type": "code",
   "execution_count": null,
   "metadata": {},
   "outputs": [],
   "source": [
    "df.columns = ['date', 'registration', 'start time',\n",
    "       'start trip location', 'end time', 'end trip location',\n",
    "       'distance traveled', 'working duration', 'geofence visited in trip',\n",
    "       'speeding count', 'braking', 'accel', 'cornering']\n",
    "df.head(5)"
   ]
  },
  {
   "cell_type": "markdown",
   "metadata": {},
   "source": [
    "Formatting date"
   ]
  },
  {
   "cell_type": "code",
   "execution_count": null,
   "metadata": {},
   "outputs": [],
   "source": [
    "df['date'] = pd.to_datetime(df['date'], format='%Y%m%d', errors='ignore')\n",
    "df['start time'] = pd.to_datetime(df['start time'])\n",
    "df['end time'] = pd.to_datetime(df['end time'])\n"
   ]
  },
  {
   "cell_type": "markdown",
   "metadata": {},
   "source": [
    "Removing null values "
   ]
  },
  {
   "cell_type": "code",
   "execution_count": null,
   "metadata": {},
   "outputs": [],
   "source": [
    "ds = df[['date','registration','speeding count','braking','accel','cornering']]\n",
    "ds = ds[ds['braking']!=nan]\n",
    "ds"
   ]
  },
  {
   "cell_type": "code",
   "execution_count": null,
   "metadata": {},
   "outputs": [],
   "source": []
  },
  {
   "cell_type": "code",
   "execution_count": null,
   "metadata": {},
   "outputs": [],
   "source": [
    "ds.groupby('registration')['registration'].count()"
   ]
  },
  {
   "cell_type": "code",
   "execution_count": null,
   "metadata": {
    "scrolled": true
   },
   "outputs": [],
   "source": [
    "for ind, row in ds.iterrows():\n",
    "    print(ind, end=\"\\r\")\n",
    "    ds.at[ind,'date'] = row['date'][0:10]\n",
    "ds.head(20)"
   ]
  },
  {
   "cell_type": "code",
   "execution_count": null,
   "metadata": {},
   "outputs": [],
   "source": [
    "fs = ds.copy()\n",
    "fs['date'] = \"\"\n",
    "fs['registration'] = \"\"\n",
    "fs['speeding count'] = 0\n",
    "fs['braking'] = 0\n",
    "fs['accel'] = 0\n",
    "fs['cornering'] = 0\n",
    "fs = fs.drop_duplicates(subset=['date', 'registration'], keep='last')\n",
    "fs =fs.reset_index().drop('index', axis=1)\n",
    "fs.columns"
   ]
  },
  {
   "cell_type": "code",
   "execution_count": null,
   "metadata": {},
   "outputs": [],
   "source": [
    "ds.columns"
   ]
  },
  {
   "cell_type": "code",
   "execution_count": null,
   "metadata": {},
   "outputs": [],
   "source": [
    "ds.columns=(['date', 'registration', 'speeding', 'braking', 'accel',\n",
    "       'cornering'])\n",
    "fs.columns=(['date', 'registration', 'speeding', 'braking', 'accel',\n",
    "       'cornering'])\n",
    "fs"
   ]
  },
  {
   "cell_type": "code",
   "execution_count": null,
   "metadata": {},
   "outputs": [],
   "source": [
    "ds"
   ]
  },
  {
   "cell_type": "code",
   "execution_count": null,
   "metadata": {},
   "outputs": [],
   "source": [
    "date = \"\"\n",
    "registration = \"\"\n",
    "speeding = 0\n",
    "braking = 0\n",
    "accel = 0\n",
    "cornering = 0 \n",
    "\n",
    "for ind, row in ds.iterrows():\n",
    "    print(ind, end=\"\\r\")\n",
    "    if row['date'] == date: \n",
    "        if row['registration'] == registration :\n",
    "            speeding += float(row['speeding'])\n",
    "            braking += float(row['braking'])\n",
    "            accel += float(row['accel'])\n",
    "            cornering += float(row['cornering'])\n",
    "        else:  #change in registration \n",
    "            fs = fs.append(pd.Series([date,registration,speeding,braking,accel,cornering], index=['date', 'registration', 'speeding', 'braking', 'accel','cornering']),ignore_index=True)\n",
    "            registration = row['registration']\n",
    "            speeding = float(row['speeding'])\n",
    "            braking = float(row['braking'])\n",
    "            accel = float(row['accel'])\n",
    "            cornering = float(row['cornering'])\n",
    "    else: #next day\n",
    "        s2 = pd.Series([date,registration,speeding,braking,accel,cornering], index=['date', 'registration', 'speeding', 'braking', 'accel','cornering'])\n",
    "        fs = fs.append(s2,ignore_index=True)\n",
    "        date = row['date']\n",
    "        registration = row['registration']\n",
    "        speeding = float(row['speeding'])\n",
    "        braking = float(row['braking'])\n",
    "        accel = float(row['accel'])\n",
    "        cornering = float(row['cornering'])\n",
    "fs"
   ]
  },
  {
   "cell_type": "code",
   "execution_count": null,
   "metadata": {},
   "outputs": [],
   "source": [
    "ds = ds.groupby(['date','registration']).sum()"
   ]
  },
  {
   "cell_type": "code",
   "execution_count": null,
   "metadata": {},
   "outputs": [],
   "source": [
    "# ds['Date'] = \"\"\n",
    "for ind, row in ds.iterrows():\n",
    "    print(ind, end=\"\\r\")\n",
    "    ds.at[ind,'Date'] = row['date','registration']\n",
    "ds"
   ]
  },
  {
   "cell_type": "code",
   "execution_count": null,
   "metadata": {},
   "outputs": [],
   "source": [
    "ds[0]"
   ]
  },
  {
   "cell_type": "code",
   "execution_count": null,
   "metadata": {},
   "outputs": [],
   "source": [
    "for ind, row in ds.iterrows():\n",
    "    print(ind, end=\"\\r\")\n",
    "    ds.at[ind,'date'] = "
   ]
  },
  {
   "cell_type": "code",
   "execution_count": null,
   "metadata": {},
   "outputs": [],
   "source": [
    "hey2 = df['start time'][1]\n",
    "hey1 =  df['start time'][2]\n",
    "hey3 = hey2-hey1\n",
    "hey3.total_seconds()/60"
   ]
  },
  {
   "cell_type": "code",
   "execution_count": null,
   "metadata": {
    "scrolled": true
   },
   "outputs": [],
   "source": [
    "hey1=datetime.strptime(str(hey1), '%Y-%m-%d %H:%M:%S')\n",
    "hey2= datetime.strptime(str(hey2), '%Y-%m-%d %H:%M:%S')\n",
    "hey1+hey2"
   ]
  },
  {
   "cell_type": "code",
   "execution_count": null,
   "metadata": {},
   "outputs": [],
   "source": [
    "lel='2021-02-7'\n",
    "lel = datetime.datetime.strptime(date_time_str, '%Y-%m-%d %H:%M:%S.%f')\n",
    "hey > lel"
   ]
  },
  {
   "cell_type": "code",
   "execution_count": null,
   "metadata": {},
   "outputs": [],
   "source": [
    "print(hey)\n",
    "print(lel.date())"
   ]
  }
 ],
 "metadata": {
  "kernelspec": {
   "display_name": "Python 3",
   "language": "python",
   "name": "python3"
  },
  "language_info": {
   "codemirror_mode": {
    "name": "ipython",
    "version": 3
   },
   "file_extension": ".py",
   "mimetype": "text/x-python",
   "name": "python",
   "nbconvert_exporter": "python",
   "pygments_lexer": "ipython3",
   "version": "3.7.4"
  }
 },
 "nbformat": 4,
 "nbformat_minor": 2
}
