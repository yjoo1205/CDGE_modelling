{
 "cells": [
  {
   "cell_type": "code",
   "execution_count": null,
   "metadata": {
    "scrolled": false
   },
   "outputs": [],
   "source": [
    "import pandas as pd\n",
    "import numpy as np\n",
    "from numpy import nan\n",
    "\n",
    "#store as a dataframe\n",
    "pd.set_option(\"display.max_colwidth\", -1)\n",
    "df = pd.read_excel(\"Detail Trip Report 19-02-2021.xls\",skiprows =15)\n",
    "df1 = pd.read_excel(\"Detail Trip Report 29-02-2020.xls\",skiprows =15)\n",
    "df2 = pd.read_excel(\"Detail Trip Report 30-04-2020.xls\",skiprows =15)\n",
    "df3 = pd.read_excel(\"Detail Trip Report 30-06-2020.xls\",skiprows =15)\n",
    "df4 = pd.read_excel(\"Detail Trip Report 30-09-2020.xls\",skiprows =15)\n",
    "df5 = pd.read_excel(\"Detail Trip Report 30-11-2020.xls\",skiprows =15)\n",
    "df6 = pd.read_excel(\"Detail Trip Report 31-01-2021.xls\",skiprows =15)\n",
    "df7 = pd.read_excel(\"Detail Trip Report 31-03-2020.xls\",skiprows =15)\n",
    "df8 = pd.read_excel(\"Detail Trip Report 31-05-2020.xls\",skiprows =15)\n",
    "df9 = pd.read_excel(\"Detail Trip Report 31-07-2020.xls\",skiprows =15)\n",
    "df10 = pd.read_excel(\"Detail Trip Report 31-08-2020.xls\",skiprows =15)\n",
    "df11 = pd.read_excel(\"Detail Trip Report 31-10-2020.xls\",skiprows =15)\n",
    "df12 = pd.read_excel(\"Detail Trip Report 31-12-2020.xls\",skiprows =15)\n",
    "frames = [df, df1, df2, df3,df4,df5,df6,df7,df8,df9,df10,df11,df12]\n",
    "combined = pd.concat(frames,sort=False)\n",
    "original = combined\n",
    "combined.head(10)\n"
   ]
  },
  {
   "cell_type": "code",
   "execution_count": null,
   "metadata": {},
   "outputs": [],
   "source": [
    "combined.to_csv('Combined_Detail_Trip_Report.csv',index=False)"
   ]
  },
  {
   "cell_type": "code",
   "execution_count": null,
   "metadata": {},
   "outputs": [],
   "source": [
    "combined.head(10)"
   ]
  },
  {
   "cell_type": "code",
   "execution_count": null,
   "metadata": {},
   "outputs": [],
   "source": [
    "combined =combined.reset_index().drop('index', axis=1)\n",
    "combined.info()"
   ]
  },
  {
   "cell_type": "code",
   "execution_count": null,
   "metadata": {},
   "outputs": [],
   "source": [
    "ef = combined\n",
    "ef =  ef[['Case','Date','Long','Lat','Odometer','Location','Speed']]\n",
    "ef =  ef[ef['Date'].notna()]\n",
    "ef.head(10)"
   ]
  },
  {
   "cell_type": "code",
   "execution_count": null,
   "metadata": {},
   "outputs": [],
   "source": [
    "ff = ef[(ef['Date'] != \"Driver\")]\n",
    "ff = ff[ff['Date'] != \"Date\"]\n",
    "ff.head(20)"
   ]
  },
  {
   "cell_type": "code",
   "execution_count": null,
   "metadata": {},
   "outputs": [],
   "source": [
    "print(ff.iloc[37050:37090])"
   ]
  },
  {
   "cell_type": "code",
   "execution_count": null,
   "metadata": {},
   "outputs": [],
   "source": [
    "ff =ff.reset_index().drop('index', axis=1)\n",
    "ff.info()"
   ]
  },
  {
   "cell_type": "code",
   "execution_count": null,
   "metadata": {},
   "outputs": [],
   "source": [
    "for ind, row in ff.iterrows():\n",
    "    print(ind, end=\"\\r\")\n",
    "    if str(row['Location']) == 'nan':\n",
    "        add_index = ind\n",
    "    if len(str(row['Location'])) < 10 and str(row['Location']) != 'nan':\n",
    "        ff.at[add_index, 'Location'] = row['Location']\n",
    "ff['Trip'] = \"\"\n",
    "ff.head(10)"
   ]
  },
  {
   "cell_type": "code",
   "execution_count": null,
   "metadata": {},
   "outputs": [],
   "source": [
    "gf = ff\n",
    "count = 1\n",
    "archive = \"\"\n",
    "\n",
    "for ind, row in gf.iterrows():\n",
    "    print(ind, end=\"\\r\")\n",
    "    \n",
    "    if str(row['Case']) == \"# Trip\":\n",
    "        count +=1\n",
    "        if str(row['Location']) not in [\"YP5064C\", \"YP5475A\", \"YP5606P\", \"YQ1110Z\" ]:\n",
    "            pass \n",
    "        else:\n",
    "            archive = str(row['Location'])\n",
    "            \n",
    "    gf.at[ind, 'Trip'] = count\n",
    "    \n",
    "    \n",
    "    if str(row['Location']) not in [\"YP5064C\", \"YP5475A\", \"YP5606P\", \"YQ1110Z\" ]:\n",
    "            gf.at[ind, 'Location'] = archive\n",
    "gf.head(10)"
   ]
  },
  {
   "cell_type": "code",
   "execution_count": null,
   "metadata": {},
   "outputs": [],
   "source": [
    "gf = gf[gf['Date'] != \"Unavailable\"]\n",
    "gf = gf.reset_index().drop('index', axis=1)\n",
    "gf.columns = ['Case','Date','Long','Lat','Odometer','Registration','Speed','Trip']\n",
    "gf"
   ]
  },
  {
   "cell_type": "code",
   "execution_count": null,
   "metadata": {},
   "outputs": [],
   "source": [
    "for ind, row in gf[gf['Registration'] == \"\"].iterrows():\n",
    "    print(ind, end=\"\\r\")\n",
    "    gf.at[ind, 'Registration'] = \"YP5064C\"\n",
    "gf"
   ]
  },
  {
   "cell_type": "code",
   "execution_count": null,
   "metadata": {},
   "outputs": [],
   "source": [
    "gf.groupby('Registration')['Registration'].count()"
   ]
  },
  {
   "cell_type": "code",
   "execution_count": null,
   "metadata": {},
   "outputs": [],
   "source": [
    "gf.groupby('Case')['Case'].count()"
   ]
  },
  {
   "cell_type": "code",
   "execution_count": null,
   "metadata": {},
   "outputs": [],
   "source": [
    "gf.info()"
   ]
  },
  {
   "cell_type": "code",
   "execution_count": null,
   "metadata": {},
   "outputs": [],
   "source": [
    "gf.to_csv('Detail_Trip_Report_final.csv',index=False)"
   ]
  },
  {
   "cell_type": "code",
   "execution_count": null,
   "metadata": {},
   "outputs": [],
   "source": [
    "gaf = pd.read_csv(\"Detail_Trip_Report_final.csv\",skiprows =15)"
   ]
  }
 ],
 "metadata": {
  "kernelspec": {
   "display_name": "Python 3",
   "language": "python",
   "name": "python3"
  },
  "language_info": {
   "codemirror_mode": {
    "name": "ipython",
    "version": 3
   },
   "file_extension": ".py",
   "mimetype": "text/x-python",
   "name": "python",
   "nbconvert_exporter": "python",
   "pygments_lexer": "ipython3",
   "version": "3.7.4"
  }
 },
 "nbformat": 4,
 "nbformat_minor": 2
}
