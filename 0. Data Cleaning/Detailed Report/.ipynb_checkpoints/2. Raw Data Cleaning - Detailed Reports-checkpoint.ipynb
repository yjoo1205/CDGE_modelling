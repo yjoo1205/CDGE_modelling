{
 "cells": [
  {
   "cell_type": "code",
   "execution_count": null,
   "metadata": {},
   "outputs": [],
   "source": [
    "import pandas as pd\n",
    "import numpy as np\n",
    "from numpy import nan\n",
    "import time\n",
    "import datetime\n",
    "\n",
    "#store as a dataframe\n",
    "pd.set_option(\"display.max_colwidth\", -1)\n",
    "df = pd.read_csv(\"Detail_Trip_Report_final.csv\")\n",
    "df.groupby('Case')['Case'].count()\n",
    "df.head(20)"
   ]
  },
  {
   "cell_type": "code",
   "execution_count": null,
   "metadata": {
    "scrolled": false
   },
   "outputs": [],
   "source": [
    "clean = df\n",
    "#clean =  clean[clean['Long'].notna()]\n",
    "\n",
    "clean =  clean[clean['Case'].notna()]\n",
    "on =  clean[clean['Case']==\"Ignition On\"]\n",
    "off =  clean[clean['Case']==\"Ignition On\"]\n",
    "on=on.reset_index().drop('index', axis=1)\n",
    "on"
   ]
  },
  {
   "cell_type": "code",
   "execution_count": null,
   "metadata": {},
   "outputs": [],
   "source": [
    "# for ind, row in nf.iterrows():\n",
    "#     print(ind, end=\"\\r\")\n",
    "#     print(\"trip:\",row['Trip'])\n",
    "#     if int(row['Trip']) != (1+ ind):\n",
    "#         print(ind)"
   ]
  },
  {
   "cell_type": "code",
   "execution_count": null,
   "metadata": {},
   "outputs": [],
   "source": [
    "nf = df\n",
    "nf.groupby('Case')['Case'].count()"
   ]
  },
  {
   "cell_type": "code",
   "execution_count": null,
   "metadata": {},
   "outputs": [],
   "source": [
    "non_idle_trip = []\n",
    "\n",
    "\n",
    "for ind, row in nf.iterrows():\n",
    "    print(ind, end=\"\\r\")\n",
    "    if row['Speed'] > 0.0:\n",
    "        save = int(row['Trip'])\n",
    "        if save not in idle_trip:\n",
    "            idle_trip.append(save)\n",
    "nf"
   ]
  },
  {
   "cell_type": "code",
   "execution_count": null,
   "metadata": {},
   "outputs": [],
   "source": [
    "max_speed = 0\n",
    "\n",
    "date = \"\"\n",
    "column_names = ['Date', 'Registration', 'Maxspeed']\n",
    "ttf = pd.DataFrame(columns = column_names)\n",
    "\n",
    "for ind, row in nf.iterrows():\n",
    "    print(ind, end=\"\\r\")\n",
    "    datetoday = str(row['Date'])[:7]\n",
    "    if datetoday!= date: #put new row in the df\n",
    "        ttf\n",
    "    else:\n",
    "        date = datetoday\n",
    "        ttf"
   ]
  },
  {
   "cell_type": "code",
   "execution_count": null,
   "metadata": {},
   "outputs": [],
   "source": [
    "print(non_idle_trip) #not idle trip"
   ]
  },
  {
   "cell_type": "code",
   "execution_count": null,
   "metadata": {},
   "outputs": [],
   "source": [
    "nf.groupby('Case')['Case'].count()"
   ]
  },
  {
   "cell_type": "code",
   "execution_count": null,
   "metadata": {},
   "outputs": [],
   "source": [
    "clean = nf\n",
    "clean = clean.dropna(subset = ['Case'])\n",
    "clean =  clean[clean['Case'] != \"Braking\"]\n",
    "clean =  clean[clean['Case'] != \"Accel\"]\n",
    "clean =  clean[clean['Case'] != \"Speeding\"]\n",
    "clean =  clean[clean['Case'] != \"Turning\"]\n",
    "clean =  clean[clean['Case'] != \"# Trip\"]\n",
    "clean.groupby('Case')['Case'].count()  # all the trips idle+ non"
   ]
  },
  {
   "cell_type": "code",
   "execution_count": null,
   "metadata": {},
   "outputs": [],
   "source": [
    "clean.to_csv('Detail_Trip_Report_All_ON_OFF.csv',index=False)\n",
    "clean"
   ]
  },
  {
   "cell_type": "code",
   "execution_count": null,
   "metadata": {},
   "outputs": [],
   "source": [
    "af = clean\n",
    "#reset case + set idling\n",
    "for ind, row in af.iterrows():\n",
    "    print(ind, end=\"\\r\")\n",
    "        \n",
    "    if int(row['Trip']) not in non_idle_trip:\n",
    "        af.at[ind,'Idling'] = 1\n",
    "    else:\n",
    "        af.at[ind,'Idling'] = 0\n",
    "af"
   ]
  },
  {
   "cell_type": "code",
   "execution_count": null,
   "metadata": {},
   "outputs": [],
   "source": [
    "af.to_csv('Detail_Trip_Report_with_Idling_TF.csv',index=False)"
   ]
  },
  {
   "cell_type": "code",
   "execution_count": null,
   "metadata": {},
   "outputs": [],
   "source": [
    "# #reset case + set idling\n",
    "# prev = ''\n",
    "# prev_trip = 1\n",
    "# for ind, row in af.iterrows():        \n",
    "#     print(ind, end=\"\\r\")\n",
    "    \n",
    "#     if str(row['Date']) == \"Travel Summary\":\n",
    "#         af.at[ind,'Case'] = '# Trip'\n",
    "#     if int(row['Trip']) not in idle_trip:\n",
    "#         af.at[ind,'Idling'] = 1\n",
    "#     else:\n",
    "#         af.at[ind,'Idling'] = 0\n",
    "# af"
   ]
  },
  {
   "cell_type": "code",
   "execution_count": null,
   "metadata": {},
   "outputs": [],
   "source": [
    "# af.groupby('Case')['Case'].count()"
   ]
  },
  {
   "cell_type": "code",
   "execution_count": null,
   "metadata": {},
   "outputs": [],
   "source": [
    "af"
   ]
  },
  {
   "cell_type": "code",
   "execution_count": null,
   "metadata": {},
   "outputs": [],
   "source": [
    "tf = af\n",
    "tf = tf.dropna(subset = ['Case','Lat'])\n",
    "tf.head(10)"
   ]
  },
  {
   "cell_type": "code",
   "execution_count": null,
   "metadata": {},
   "outputs": [],
   "source": [
    "tf.groupby('Case')['Case'].count()"
   ]
  },
  {
   "cell_type": "code",
   "execution_count": null,
   "metadata": {},
   "outputs": [],
   "source": [
    "tf =tf.reset_index().drop('index', axis=1)\n",
    "tf"
   ]
  },
  {
   "cell_type": "markdown",
   "metadata": {},
   "source": [
    "# removing all other cases except ['Ignition On','Ignition Off','# Travel']"
   ]
  },
  {
   "cell_type": "code",
   "execution_count": null,
   "metadata": {},
   "outputs": [],
   "source": [
    "drops = []\n",
    "for ind, row in tf.iterrows():\n",
    "    print(ind, end=\"\\r\")\n",
    "    if str(row['Case']) not in ['Ignition On','Ignition Off','# Travel']:\n",
    "        drops.append(ind)\n",
    "drops"
   ]
  },
  {
   "cell_type": "code",
   "execution_count": null,
   "metadata": {},
   "outputs": [],
   "source": [
    "tf.drop(drops , inplace=True)\n",
    "tf"
   ]
  },
  {
   "cell_type": "code",
   "execution_count": null,
   "metadata": {},
   "outputs": [],
   "source": [
    "non_idling =  tf[tf['Idling'] == 0]\n",
    "non_idling =non_idling.reset_index().drop('index', axis=1)\n",
    "non_idling.to_csv('Detail_Trip_Report_non_idling.csv',index=False)\n",
    "non_idling"
   ]
  },
  {
   "cell_type": "code",
   "execution_count": null,
   "metadata": {},
   "outputs": [],
   "source": [
    "non_idling.groupby('Case')['Case'].count()"
   ]
  },
  {
   "cell_type": "code",
   "execution_count": null,
   "metadata": {},
   "outputs": [],
   "source": [
    "hf = tf[tf['Idling'] == 1]\n",
    "hf =hf.reset_index().drop('index', axis=1)\n",
    "hf"
   ]
  },
  {
   "cell_type": "code",
   "execution_count": null,
   "metadata": {},
   "outputs": [],
   "source": [
    "hf.groupby('Case')['Case'].count()"
   ]
  },
  {
   "cell_type": "code",
   "execution_count": null,
   "metadata": {},
   "outputs": [],
   "source": [
    "hf.to_csv('Idling_On_Off.csv',index=False)"
   ]
  },
  {
   "cell_type": "code",
   "execution_count": null,
   "metadata": {
    "scrolled": true
   },
   "outputs": [],
   "source": [
    "time = hf\n",
    "time['Date'] = pd.to_datetime(time['Date'])\n",
    "time.head(50)"
   ]
  },
  {
   "cell_type": "code",
   "execution_count": null,
   "metadata": {},
   "outputs": [],
   "source": [
    "duration = None \n",
    "\n",
    "for ind, row in time.iterrows():\n",
    "    print(ind, end=\"\\r\")\n",
    "    if str(row['Case']) == 'Ignition On':\n",
    "        duration = row['Date']\n",
    "        time.at[ind,'Idling'] = nan\n",
    "    elif str(row['Case']) == 'Ignition Off':\n",
    "        time_taken = (row['Date'] - duration ).total_seconds()/60/60\n",
    "#         time_taken = datetime.datetime.strptime(str(time_taken), '%d %H:%M:%S')\n",
    "        time.at[ind,'Idling'] = time_taken\n",
    "    else:\n",
    "        break \n",
    "time.head()\n",
    "# hey2 = df['start time'][1]\n",
    "# hey1 =  df['start time'][2]\n",
    "# hey3 = hey2-hey1\n",
    "# hey3.total_seconds()/60\n"
   ]
  },
  {
   "cell_type": "code",
   "execution_count": null,
   "metadata": {},
   "outputs": [],
   "source": [
    "time.head(50)"
   ]
  },
  {
   "cell_type": "code",
   "execution_count": null,
   "metadata": {},
   "outputs": [],
   "source": [
    "mom = time\n",
    "mom= mom.drop( columns = ['Lat','Long','Odometer','Speed','Trip'])\n",
    "mom"
   ]
  },
  {
   "cell_type": "code",
   "execution_count": null,
   "metadata": {},
   "outputs": [],
   "source": [
    "time = time.dropna(axis=0, subset=['Idling'])\n",
    "time = time.reset_index().drop('index', axis=1)\n",
    "time"
   ]
  },
  {
   "cell_type": "code",
   "execution_count": null,
   "metadata": {},
   "outputs": [],
   "source": [
    "time.groupby('Case')['Case'].count()"
   ]
  },
  {
   "cell_type": "code",
   "execution_count": null,
   "metadata": {},
   "outputs": [],
   "source": [
    "for ind, row in time.iterrows():\n",
    "    print(ind, end=\"\\r\")\n",
    "#     print(str(row['Date']))\n",
    "    time.at[ind,'Date'] = datetime.datetime.date(row['Date'])\n",
    "time"
   ]
  },
  {
   "cell_type": "code",
   "execution_count": null,
   "metadata": {},
   "outputs": [],
   "source": [
    "time = time.sort_values(by=['Date','Registration'])\n",
    "time"
   ]
  },
  {
   "cell_type": "code",
   "execution_count": null,
   "metadata": {},
   "outputs": [],
   "source": [
    "time =time.reset_index().drop('index', axis=1)\n",
    "time.head()"
   ]
  },
  {
   "cell_type": "code",
   "execution_count": null,
   "metadata": {},
   "outputs": [],
   "source": [
    "time.to_csv('Daily_Idling_Detail_Trip_Report.csv',index=False)"
   ]
  },
  {
   "cell_type": "code",
   "execution_count": null,
   "metadata": {},
   "outputs": [],
   "source": [
    "time.head(30)"
   ]
  },
  {
   "cell_type": "markdown",
   "metadata": {},
   "source": [
    "# sum per day"
   ]
  },
  {
   "cell_type": "code",
   "execution_count": null,
   "metadata": {},
   "outputs": [],
   "source": [
    "time.groupby('Registration')['Registration'].count()"
   ]
  },
  {
   "cell_type": "code",
   "execution_count": null,
   "metadata": {},
   "outputs": [],
   "source": [
    "here = time[[ 'Date', 'Registration', 'Idling']]\n",
    "car1 = here[(time['Registration'] == \"YP5606P\")]\n",
    "car2 = here[(time['Registration'] == \"YP5475A\")]\n",
    "car3 = here[(time['Registration'] == \"YP5064C\")]\n",
    "car4 = here[(time['Registration'] == \"YQ1110Z\")]\n",
    "car1.head(20)"
   ]
  },
  {
   "cell_type": "code",
   "execution_count": null,
   "metadata": {},
   "outputs": [],
   "source": [
    "car4[\"Idling\"].max()"
   ]
  },
  {
   "cell_type": "code",
   "execution_count": null,
   "metadata": {},
   "outputs": [],
   "source": [
    "car1 = car1.groupby(by=[\"Date\",\"Registration\"], as_index=False).sum()\n",
    "car2 = car2.groupby(by=[\"Date\",\"Registration\"], as_index=False).sum()\n",
    "car3 = car3.groupby(by=[\"Date\",\"Registration\"], as_index=False).sum()\n",
    "car4 = car4.groupby(by=[\"Date\",\"Registration\"], as_index=False).sum()"
   ]
  },
  {
   "cell_type": "code",
   "execution_count": null,
   "metadata": {},
   "outputs": [],
   "source": [
    "car2.info()"
   ]
  },
  {
   "cell_type": "code",
   "execution_count": null,
   "metadata": {},
   "outputs": [],
   "source": [
    "frames = [car1,car2,car3,car4]\n",
    "result = pd.concat(frames)\n",
    "result.columns\n",
    "result = result.reset_index().drop('index', axis=1)\n",
    "\n",
    "result"
   ]
  },
  {
   "cell_type": "code",
   "execution_count": null,
   "metadata": {},
   "outputs": [],
   "source": [
    "result[\"Idling\"].max()"
   ]
  },
  {
   "cell_type": "code",
   "execution_count": null,
   "metadata": {},
   "outputs": [],
   "source": [
    "result.to_csv('Daily_Idling_Duration_Detail_Trip_Report.csv',index=False)"
   ]
  },
  {
   "cell_type": "code",
   "execution_count": null,
   "metadata": {},
   "outputs": [],
   "source": [
    "len(result)"
   ]
  },
  {
   "cell_type": "code",
   "execution_count": null,
   "metadata": {},
   "outputs": [],
   "source": [
    "column_names = ['Date', 'Registration', 'Idling']\n",
    "tf = pd.DataFrame(columns = column_names)\n",
    "tf"
   ]
  },
  {
   "cell_type": "code",
   "execution_count": null,
   "metadata": {},
   "outputs": [],
   "source": [
    "sum = 0 \n",
    "month = \"\"\n",
    "car = \"\"\n",
    "for ind, row in result.iterrows():\n",
    "    print(ind, end=\"\\r\")\n",
    "    print(str(row['Date'])[:7])\n",
    "    if str(row['Date'])[:7] == month:\n",
    "        if row['Registration'] == car: \n",
    "            sum += float(row['Idling'])\n",
    "            print(ind)\n",
    "            if ind == len(result)-2:\n",
    "                tf = tf.append({'Date': month, 'Registration' : car, 'Idling': sum }, ignore_index=True)\n",
    "        else: \n",
    "            tf = tf.append({'Date': month, 'Registration' : car, 'Idling': sum }, ignore_index=True)\n",
    "            sum = float(row['Idling'])\n",
    "            car = row['Registration']\n",
    "       \n",
    "    else: \n",
    "        tf = tf.append({'Date': month, 'Registration' : car, 'Idling': sum }, ignore_index=True)\n",
    "        sum = float(row['Idling'])\n",
    "        month =str(row['Date'])[:7]\n",
    "        car = row['Registration']\n"
   ]
  },
  {
   "cell_type": "code",
   "execution_count": null,
   "metadata": {},
   "outputs": [],
   "source": [
    "tf.drop(df.index[0], inplace=True)\n",
    "tf"
   ]
  },
  {
   "cell_type": "code",
   "execution_count": null,
   "metadata": {},
   "outputs": [],
   "source": [
    "tf['Idling'].max()"
   ]
  },
  {
   "cell_type": "code",
   "execution_count": null,
   "metadata": {},
   "outputs": [],
   "source": [
    "\n",
    "tf.to_csv('Monthly_Idling_Detail_Trip_Report_with_Total_Duration.csv',index=False)"
   ]
  }
 ],
 "metadata": {
  "kernelspec": {
   "display_name": "Python 3",
   "language": "python",
   "name": "python3"
  },
  "language_info": {
   "codemirror_mode": {
    "name": "ipython",
    "version": 3
   },
   "file_extension": ".py",
   "mimetype": "text/x-python",
   "name": "python",
   "nbconvert_exporter": "python",
   "pygments_lexer": "ipython3",
   "version": "3.7.4"
  }
 },
 "nbformat": 4,
 "nbformat_minor": 2
}
