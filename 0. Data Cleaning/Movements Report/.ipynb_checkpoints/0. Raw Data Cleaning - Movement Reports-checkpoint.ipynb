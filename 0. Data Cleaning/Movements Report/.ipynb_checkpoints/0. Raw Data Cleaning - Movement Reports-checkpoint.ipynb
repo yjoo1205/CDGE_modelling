{
 "cells": [
  {
   "cell_type": "code",
   "execution_count": null,
   "metadata": {},
   "outputs": [],
   "source": [
    "import pandas as pd\n",
    "import numpy as np\n",
    "from numpy import nan\n",
    "\n",
    "#store as a dataframe\n",
    "pd.set_option(\"display.max_colwidth\", -1)\n",
    "# df = pd.read_excel(\"Movement Report 1.xls\",skiprows =12,header = [0,1,2])\n",
    "# df = pd.read_excel(\"Movement Report 2.xls\",skiprows =12,header = [0,1,2])\n",
    "# df = pd.read_excel(\"Movement Report 3.xls\",skiprows =12,header = [0,1,2])\n",
    "# df = pd.read_excel(\"Movement Report 4.xls\",skiprows =12,header = [0,1,2])\n",
    "# df = pd.read_excel(\"Movement Report 5.xls\",skiprows =12,header = [0,1,2])\n",
    "# df = pd.read_excel(\"Movement Report 6.xls\",skiprows =12,header = [0,1,2])\n",
    "# df = pd.read_excel(\"Movement Report 7.xls\",skiprows =12,header = [0,1,2])\n",
    "# df = pd.read_excel(\"Movement Report 8.xls\",skiprows =12,header = [0,1,2])\n",
    "# df = pd.read_excel(\"Movement Report 9.xls\",skiprows =12,header = [0,1,2])\n",
    "# df = pd.read_excel(\"Movement Report 10.xls\",skiprows =12,header = [0,1,2])\n",
    "# df = pd.read_excel(\"Movement Report 11.xls\",skiprows =12,header = [0,1,2])\n",
    "# df = pd.read_excel(\"Movement Report 12.xls\",skiprows =12,header = [0,1,2])\n",
    "df = pd.read_excel(\"Movement Report 13.xls\",skiprows =12,header = [0,1,2])\n",
    "original = df\n",
    "df.head()"
   ]
  },
  {
   "cell_type": "code",
   "execution_count": null,
   "metadata": {},
   "outputs": [],
   "source": [
    "#clean up table headers & standardize to small letters \n",
    "ans = []\n",
    "for title in df.columns:\n",
    "    name = \"\"\n",
    "    for element in title:\n",
    "        if name == \"\":\n",
    "            name += element\n",
    "        elif \"Unnamed\" not in element:\n",
    "            name += \" \" +element \n",
    "    ans.append(name.lower())\n",
    "df.columns = ans\n",
    "df.head()"
   ]
  },
  {
   "cell_type": "code",
   "execution_count": null,
   "metadata": {},
   "outputs": [],
   "source": [
    "names = df.columns.values\n",
    "names_list = [\"drop\",\"speeding count\",\"braking\",\"accel\",\"cornering\"]\n",
    "for i in range(1,len(names_list)+1):\n",
    "    word = names_list[-i]\n",
    "    names[-i] = word\n",
    "df.columns = names\n",
    "del df[\"drop\"]\n",
    "df"
   ]
  },
  {
   "cell_type": "code",
   "execution_count": null,
   "metadata": {},
   "outputs": [],
   "source": [
    "#delete useless columns \n",
    "#edit useful list accordingly \n",
    "useful = [\"date\",\"registration\",\"start trip time >10km/hr\",\"start trip location\",\"end trip time\",\"end trip location\",\"distance traveled\",\"working duration\",\"geofence visited in trip\",\"speeding count\",\"braking\",\"accel\",\"cornering\"]\n",
    "\n",
    "for title in df.columns: \n",
    "    if title not in useful:\n",
    "        while title in df.columns: #may have duplicated columns that have already been deleted\n",
    "            del df[title]\n",
    "    #print(df.columns)\n",
    "df.head(5)"
   ]
  },
  {
   "cell_type": "code",
   "execution_count": null,
   "metadata": {},
   "outputs": [],
   "source": [
    "for row in df.iterrows():\n",
    "    print(row)\n",
    "    for i in range(0,len(df.colums))"
   ]
  },
  {
   "cell_type": "code",
   "execution_count": null,
   "metadata": {
    "scrolled": false
   },
   "outputs": [],
   "source": [
    "#delete row if all the columns in the row is NaN \n",
    "row_no = 0 \n",
    "rows_dropped = []\n",
    "deleted = []\n",
    "for row in df.iterrows():\n",
    "#     print(row)\n",
    "#     print(row[1])\n",
    "    count = 0\n",
    "#     print(\"entering row now\")\n",
    "    for i in range(0,len(df.columns)):\n",
    "        if  pd.isnull(row[1][i])== True:\n",
    "#             print(row[1])\n",
    "            count+= 1\n",
    "        if row[1][i] in (\"Totals\",\"Registration\",\"time\",\">10km/hr\",\"Speeding count\") :\n",
    "            rows_dropped.append(row_no)\n",
    "            deleted.append(row)\n",
    "            df = df.drop([row_no])\n",
    "    if count == len(df.columns):\n",
    "#         print(\"true\")\n",
    "        rows_dropped.append(row_no)\n",
    "        deleted.append(row)\n",
    "        df = df.drop([row_no])\n",
    "#         print(\"drop successful\")\n",
    "#     print(\"end the process -----------------------\")\n",
    "    row_no+=1\n",
    "# print(rows_dropped) # row number of deleted rows\n",
    "#deleted >> collection of deleted rows to double chk \n",
    "df.reset_index(drop=True, inplace=True)\n",
    "df.head()"
   ]
  },
  {
   "cell_type": "code",
   "execution_count": null,
   "metadata": {},
   "outputs": [],
   "source": [
    "num = 0 \n",
    "emp = 0 \n",
    "max = len(df)\n",
    "while num <= max:\n",
    "    if num == max: \n",
    "#         print(num)\n",
    "#         print(emp)\n",
    "        for i in range (emp,0,-1):\n",
    "            string3 = str(df.loc[num-i][3])\n",
    "            string5 = str(df.loc[num-i][5])\n",
    "            if string3 != \"nan\":\n",
    "                df.loc[num-emp-1][3] = str(df.loc[num-emp-1][3]) + string3\n",
    "            if string5 != \"nan\":\n",
    "                df.loc[num-emp-1][5] = str(df.loc[num-emp-1][5]) + string5\n",
    "            df = df.drop([num-i])\n",
    "        emp = 0\n",
    "        num+=1\n",
    "    elif pd.isnull(df.loc[num][0])== True:\n",
    "#         print(num,1)\n",
    "        emp+=1\n",
    "        num+=1\n",
    "    elif emp > 0:\n",
    "        for i in range (emp,0,-1):\n",
    "            string3 = str(df.loc[num-i][3])\n",
    "            string5 = str(df.loc[num-i][5])\n",
    "            if string3 != \"nan\":\n",
    "                df.loc[num-emp-1][3] = str(df.loc[num-emp-1][3]) + string3\n",
    "            if string5 != \"nan\":\n",
    "                df.loc[num-emp-1][5] = str(df.loc[num-emp-1][5]) + string5\n",
    "            df = df.drop([num-i])\n",
    "#         print(num,2)\n",
    "        emp = 0\n",
    "        num+=1\n",
    "    else:\n",
    "#         print(num,3)\n",
    "        num +=1 \n",
    "        \n",
    "print(\"the end\")"
   ]
  },
  {
   "cell_type": "code",
   "execution_count": null,
   "metadata": {
    "scrolled": false
   },
   "outputs": [],
   "source": [
    "df.reset_index(drop=True, inplace=True)\n",
    "df.head()"
   ]
  },
  {
   "cell_type": "code",
   "execution_count": null,
   "metadata": {},
   "outputs": [],
   "source": [
    "# compilation = pd.DataFrame()\n",
    "compilation = compilation.append(df)\n",
    "print(len(compilation))\n",
    "compilation"
   ]
  },
  {
   "cell_type": "code",
   "execution_count": null,
   "metadata": {},
   "outputs": [],
   "source": [
    "compilation.reset_index(drop=True, inplace=True)\n",
    "compilation.head()\n",
    "print(len(compilation))\n",
    "compilation[compilation.duplicated()]"
   ]
  },
  {
   "cell_type": "code",
   "execution_count": null,
   "metadata": {},
   "outputs": [],
   "source": [
    "compilation = compilation.drop_duplicates(keep='last')\n",
    "print(len(compilation))"
   ]
  },
  {
   "cell_type": "code",
   "execution_count": null,
   "metadata": {},
   "outputs": [],
   "source": [
    "compilation.to_csv('mov.csv')\n"
   ]
  }
 ],
 "metadata": {
  "kernelspec": {
   "display_name": "Python 3",
   "language": "python",
   "name": "python3"
  },
  "language_info": {
   "codemirror_mode": {
    "name": "ipython",
    "version": 3
   },
   "file_extension": ".py",
   "mimetype": "text/x-python",
   "name": "python",
   "nbconvert_exporter": "python",
   "pygments_lexer": "ipython3",
   "version": "3.7.4"
  }
 },
 "nbformat": 4,
 "nbformat_minor": 2
}
